{
 "cells": [
  {
   "cell_type": "code",
   "execution_count": 1,
   "metadata": {},
   "outputs": [],
   "source": [
    "%load_ext autoreload\n",
    "%autoreload 2"
   ]
  },
  {
   "cell_type": "code",
   "execution_count": 2,
   "metadata": {},
   "outputs": [],
   "source": [
    "import os\n",
    "import re\n",
    "import glob\n",
    "from pathlib import Path\n",
    "import pandas as pd"
   ]
  },
  {
   "cell_type": "code",
   "execution_count": 3,
   "metadata": {},
   "outputs": [],
   "source": [
    "dir_path = os.getcwd()"
   ]
  },
  {
   "cell_type": "code",
   "execution_count": 4,
   "metadata": {},
   "outputs": [],
   "source": [
    "folders = sorted(Path(dir_path).glob('E/*'))"
   ]
  },
  {
   "cell_type": "code",
   "execution_count": 5,
   "metadata": {},
   "outputs": [],
   "source": [
    "file = folders[0]"
   ]
  },
  {
   "cell_type": "code",
   "execution_count": 12,
   "metadata": {},
   "outputs": [
    {
     "data": {
      "text/plain": [
       "['',\n",
       " 'home',\n",
       " 'pinky',\n",
       " 'Documents',\n",
       " 'p_projects',\n",
       " 'rabina_file',\n",
       " 'E',\n",
       " 'AB029 LEFT']"
      ]
     },
     "execution_count": 12,
     "metadata": {},
     "output_type": "execute_result"
    }
   ],
   "source": [
    "(os.path.splitext(file)[0]).split('/')"
   ]
  },
  {
   "cell_type": "code",
   "execution_count": 6,
   "metadata": {},
   "outputs": [],
   "source": [
    "for file in folders:\n",
    "    with open(file, 'r') as f:\n",
    "        file_name = os.path.splitext(file)[0].split('/')[-1].replace(\" \", \"_\")\n",
    "        lines = f.readlines()\n",
    "    #     del lines[0]\n",
    "        final_lines = [re.split('\\s+', l.strip()) for l in lines]\n",
    "        df = pd.DataFrame(final_lines[1:], columns=final_lines[0])\n",
    "        df.to_csv(f\"{dir_path}/output/{file_name}.csv\")"
   ]
  },
  {
   "cell_type": "code",
   "execution_count": 8,
   "metadata": {},
   "outputs": [
    {
     "data": {
      "text/html": [
       "<div>\n",
       "<style scoped>\n",
       "    .dataframe tbody tr th:only-of-type {\n",
       "        vertical-align: middle;\n",
       "    }\n",
       "\n",
       "    .dataframe tbody tr th {\n",
       "        vertical-align: top;\n",
       "    }\n",
       "\n",
       "    .dataframe thead th {\n",
       "        text-align: right;\n",
       "    }\n",
       "</style>\n",
       "<table border=\"1\" class=\"dataframe\">\n",
       "  <thead>\n",
       "    <tr style=\"text-align: right;\">\n",
       "      <th></th>\n",
       "      <th>NODE</th>\n",
       "      <th>X</th>\n",
       "      <th>Y</th>\n",
       "      <th>Z</th>\n",
       "      <th>THXY</th>\n",
       "      <th>THYZ</th>\n",
       "      <th>THZX</th>\n",
       "    </tr>\n",
       "  </thead>\n",
       "  <tbody>\n",
       "    <tr>\n",
       "      <th>0</th>\n",
       "      <td>10319-1</td>\n",
       "      <td>135.11</td>\n",
       "      <td>-172.91</td>\n",
       "      <td>998.13</td>\n",
       "      <td>0.00</td>\n",
       "      <td>0.00</td>\n",
       "      <td>0.00</td>\n",
       "    </tr>\n",
       "    <tr>\n",
       "      <th>1</th>\n",
       "      <td>12854-2</td>\n",
       "      <td>148.83</td>\n",
       "      <td>-166.52</td>\n",
       "      <td>1470.4</td>\n",
       "      <td>0.00</td>\n",
       "      <td>0.00</td>\n",
       "      <td>0.00</td>\n",
       "    </tr>\n",
       "    <tr>\n",
       "      <th>2</th>\n",
       "      <td>8203-3</td>\n",
       "      <td>161.87</td>\n",
       "      <td>-170.89</td>\n",
       "      <td>1414.0</td>\n",
       "      <td>0.00</td>\n",
       "      <td>0.00</td>\n",
       "      <td>0.00</td>\n",
       "    </tr>\n",
       "    <tr>\n",
       "      <th>3</th>\n",
       "      <td>3711-4</td>\n",
       "      <td>66.939</td>\n",
       "      <td>-173.47</td>\n",
       "      <td>1475.8</td>\n",
       "      <td>0.00</td>\n",
       "      <td>0.00</td>\n",
       "      <td>0.00</td>\n",
       "    </tr>\n",
       "    <tr>\n",
       "      <th>4</th>\n",
       "      <td>1590-5</td>\n",
       "      <td>100.98</td>\n",
       "      <td>-175.42</td>\n",
       "      <td>1431.1</td>\n",
       "      <td>0.00</td>\n",
       "      <td>0.00</td>\n",
       "      <td>0.00</td>\n",
       "    </tr>\n",
       "    <tr>\n",
       "      <th>5</th>\n",
       "      <td>10353-6</td>\n",
       "      <td>123.83</td>\n",
       "      <td>-188.57</td>\n",
       "      <td>1464.0</td>\n",
       "      <td>0.00</td>\n",
       "      <td>0.00</td>\n",
       "      <td>0.00</td>\n",
       "    </tr>\n",
       "    <tr>\n",
       "      <th>6</th>\n",
       "      <td>2873-7</td>\n",
       "      <td>80.477</td>\n",
       "      <td>-173.70</td>\n",
       "      <td>1441.0</td>\n",
       "      <td>0.00</td>\n",
       "      <td>0.00</td>\n",
       "      <td>0.00</td>\n",
       "    </tr>\n",
       "    <tr>\n",
       "      <th>7</th>\n",
       "      <td>9190-8</td>\n",
       "      <td>102.49</td>\n",
       "      <td>-180.08</td>\n",
       "      <td>1486.4</td>\n",
       "      <td>0.00</td>\n",
       "      <td>0.00</td>\n",
       "      <td>0.00</td>\n",
       "    </tr>\n",
       "  </tbody>\n",
       "</table>\n",
       "</div>"
      ],
      "text/plain": [
       "      NODE       X        Y       Z  THXY  THYZ  THZX\n",
       "0  10319-1  135.11  -172.91  998.13  0.00  0.00  0.00\n",
       "1  12854-2  148.83  -166.52  1470.4  0.00  0.00  0.00\n",
       "2   8203-3  161.87  -170.89  1414.0  0.00  0.00  0.00\n",
       "3   3711-4  66.939  -173.47  1475.8  0.00  0.00  0.00\n",
       "4   1590-5  100.98  -175.42  1431.1  0.00  0.00  0.00\n",
       "5  10353-6  123.83  -188.57  1464.0  0.00  0.00  0.00\n",
       "6   2873-7  80.477  -173.70  1441.0  0.00  0.00  0.00\n",
       "7   9190-8  102.49  -180.08  1486.4  0.00  0.00  0.00"
      ]
     },
     "execution_count": 8,
     "metadata": {},
     "output_type": "execute_result"
    }
   ],
   "source": [
    "df"
   ]
  },
  {
   "cell_type": "code",
   "execution_count": null,
   "metadata": {},
   "outputs": [],
   "source": []
  }
 ],
 "metadata": {
  "kernelspec": {
   "display_name": "Python 3",
   "language": "python",
   "name": "python3"
  },
  "language_info": {
   "codemirror_mode": {
    "name": "ipython",
    "version": 3
   },
   "file_extension": ".py",
   "mimetype": "text/x-python",
   "name": "python",
   "nbconvert_exporter": "python",
   "pygments_lexer": "ipython3",
   "version": "3.6.9"
  }
 },
 "nbformat": 4,
 "nbformat_minor": 4
}
