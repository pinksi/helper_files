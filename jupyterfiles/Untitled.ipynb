{
 "cells": [
  {
   "cell_type": "code",
   "execution_count": 1,
   "metadata": {},
   "outputs": [],
   "source": [
    "%load_ext autoreload\n",
    "%autoreload 2"
   ]
  },
  {
   "cell_type": "code",
   "execution_count": 2,
   "metadata": {},
   "outputs": [],
   "source": [
    "import os\n",
    "import re\n",
    "import glob\n",
    "from pathlib import Path\n",
    "import pandas as pd\n",
    "import cdblib\n"
   ]
  },
  {
   "cell_type": "code",
   "execution_count": 3,
   "metadata": {},
   "outputs": [
    {
     "data": {
      "text/plain": [
       "[PosixPath('/home/pinky/Documents/p_projects/rabina_file/D/AB029/AB029-R-8-50Mat.cdb'),\n",
       " PosixPath('/home/pinky/Documents/p_projects/rabina_file/D/AB029 LEFT/AB029-L-8-50Mat.cdb'),\n",
       " PosixPath('/home/pinky/Documents/p_projects/rabina_file/D/BD066/BD066-R-8-50Mat.cdb'),\n",
       " PosixPath('/home/pinky/Documents/p_projects/rabina_file/D/BH056/BH056-R-8-50Mat.cdb'),\n",
       " PosixPath('/home/pinky/Documents/p_projects/rabina_file/D/BN015/BN015-R-8-50Mat.cdb'),\n",
       " PosixPath('/home/pinky/Documents/p_projects/rabina_file/D/C5002 LEFT/C5002-L-8-50Mat.cdb')]"
      ]
     },
     "execution_count": 3,
     "metadata": {},
     "output_type": "execute_result"
    }
   ],
   "source": [
    "dir_path = os.getcwd()\n",
    "cdbfiles = sorted(Path(dir_path).glob('D/*/*.cdb'))\n",
    "cdbfiles"
   ]
  },
  {
   "cell_type": "code",
   "execution_count": 4,
   "metadata": {},
   "outputs": [],
   "source": [
    "for file in cdbfiles:\n",
    "    with open(file, 'r') as f:\n",
    "        data = f.readlines()"
   ]
  },
  {
   "cell_type": "code",
   "execution_count": 5,
   "metadata": {},
   "outputs": [],
   "source": [
    "for i, text in enumerate(data):\n",
    "    if \"MATERIALS\" in text:\n",
    "        start_material = i\n",
    "material_data = [text.strip() for i, text in enumerate(data) if (i >= start_material)]"
   ]
  },
  {
   "cell_type": "code",
   "execution_count": 6,
   "metadata": {},
   "outputs": [],
   "source": [
    "material_data_f = [re.split(',', l.strip()) for l in material_data[1:-8]]\n",
    "material_data_new = [i for i in material_data_f if \"EX\" in i or \"DENS\" in i]"
   ]
  },
  {
   "cell_type": "code",
   "execution_count": 7,
   "metadata": {},
   "outputs": [],
   "source": [
    "material_df = pd.DataFrame(material_data_new, columns=['A', 'B', 'C', 'Material_name', 'E', 'F', 'Final_value', 'H'])"
   ]
  },
  {
   "cell_type": "code",
   "execution_count": 8,
   "metadata": {},
   "outputs": [],
   "source": [
    "required_df = material_df[[\"Material_name\", \"Final_value\"]]"
   ]
  },
  {
   "cell_type": "code",
   "execution_count": 9,
   "metadata": {},
   "outputs": [
    {
     "name": "stderr",
     "output_type": "stream",
     "text": [
      "/home/pinky/.venvs/p_env/lib/python3.6/site-packages/ipykernel_launcher.py:1: SettingWithCopyWarning: \n",
      "A value is trying to be set on a copy of a slice from a DataFrame.\n",
      "Try using .loc[row_indexer,col_indexer] = value instead\n",
      "\n",
      "See the caveats in the documentation: http://pandas.pydata.org/pandas-docs/stable/user_guide/indexing.html#returning-a-view-versus-a-copy\n",
      "  \"\"\"Entry point for launching an IPython kernel.\n"
     ]
    }
   ],
   "source": [
    "required_df[\"Final_value\"] = required_df[\"Final_value\"].astype(float)"
   ]
  },
  {
   "cell_type": "code",
   "execution_count": null,
   "metadata": {},
   "outputs": [],
   "source": [
    "# required_df.to_csv(f\"{os.getcwd()}/material_values.csv\")"
   ]
  }
 ],
 "metadata": {
  "kernelspec": {
   "display_name": "Python 3",
   "language": "python",
   "name": "python3"
  },
  "language_info": {
   "codemirror_mode": {
    "name": "ipython",
    "version": 3
   },
   "file_extension": ".py",
   "mimetype": "text/x-python",
   "name": "python",
   "nbconvert_exporter": "python",
   "pygments_lexer": "ipython3",
   "version": "3.6.9"
  }
 },
 "nbformat": 4,
 "nbformat_minor": 4
}
